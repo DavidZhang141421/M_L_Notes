{
 "cells": [
  {
   "cell_type": "code",
   "execution_count": 1,
   "id": "13aa10c4",
   "metadata": {},
   "outputs": [],
   "source": [
    "import numpy as np\n",
    "import pandas as pd\n",
    "import matplotlib.pyplot as plt"
   ]
  },
  {
   "cell_type": "code",
   "execution_count": 2,
   "id": "87304a48",
   "metadata": {},
   "outputs": [],
   "source": [
    "class SoftMax():\n",
    "    def __init__(self,alpha = 0.01,itera = 500):\n",
    "        \"\"\" alpha:学习率\n",
    "            itera:迭代次数\n",
    "            theta:参数矩阵,默认为0\n",
    "            prob_matrix:概率矩阵  \"\"\"\n",
    "        self.alpha = alpha\n",
    "        self.itera = itera\n",
    "        self.theta = 0\n",
    "        self.prob_matrix = 0\n",
    "        \n",
    "    def init_input(self,X,y = np.array([])):\n",
    "        X_row = X.shape[0]\n",
    "        X = np.c_[np.ones((X_row,1)),X]\n",
    "        X_column = X.shape[1]\n",
    "        if len(y) == 0:\n",
    "            return X\n",
    "        else:\n",
    "            y = y.reshape((X_row,1))\n",
    "            class_type = np.unique(y)\n",
    "            y = y+1\n",
    "            theta = np.zeros((len(class_type),X_column))\n",
    "            return theta,X,y\n",
    "        \n",
    "        \n",
    "    def softmax(self,X,theta):\n",
    "        \"\"\"计算各个类别的概率向量\"\"\"\n",
    "        entropy = np.exp((theta.dot(X.T)).T)\n",
    "        coffecient = np.sum(entropy,axis=1).reshape((X.shape[0],1))\n",
    "        softmax = (1/coffecient)*entropy\n",
    "        return softmax\n",
    "    \n",
    "    def cross_entropy(self,theta,X,y):\n",
    "        row = X.shape[0]\n",
    "        class_type = np.unique(y)\n",
    "        indicater_matrix = np.zeros((row,len(class_type)))\n",
    "        for i in range(len(class_type)):\n",
    "            indicater_matrix[:,i]=y.T\n",
    "            indicater_matrix[:,i]=np.where(indicater_matrix[:,i]==i+1,1,0)\n",
    "        softmax=self.softmax(X,theta)\n",
    "        return indicater_matrix-softmax\n",
    "        \n",
    "        \n",
    "        \n",
    "    def fit(self,X,y,alambda=1):\n",
    "        theta,X,y = self.init_input(X,y)\n",
    "        m = X.shape[0]\n",
    "        for i in range(self.itera):\n",
    "            cross_entropy1 = self.cross_entropy(theta,X,y)\n",
    "            cross_entropy2 = (cross_entropy1.T).dot(X)\n",
    "            theta = (1-self.alpha*alambda/m)*theta + (self.alpha/m)*cross_entropy2\n",
    "        self.theta = theta\n",
    "        \n",
    "            \n",
    "    def predict(self,X):\n",
    "        X = self.init_input(X)\n",
    "        prob_matrix = self.softmax(X,self.theta)\n",
    "        self.prob_matrix = prob_matrix\n",
    "        result = np.argmax(prob_matrix,axis=1)\n",
    "        return result\n",
    "    \n",
    "    def score(self,y,y_predict):\n",
    "        a = np.where(y==y_predict,1,0)\n",
    "        return np.sum(a)/len(y)     "
   ]
  },
  {
   "cell_type": "code",
   "execution_count": 3,
   "id": "e6c17d0b",
   "metadata": {},
   "outputs": [],
   "source": [
    "from sklearn import datasets\n",
    "iris=datasets.load_iris()"
   ]
  },
  {
   "cell_type": "code",
   "execution_count": 4,
   "id": "e355da6f",
   "metadata": {},
   "outputs": [],
   "source": [
    "X=iris['data'][:,(2,3)]\n",
    "y=iris['target']"
   ]
  },
  {
   "cell_type": "code",
   "execution_count": 5,
   "id": "f3663b61",
   "metadata": {},
   "outputs": [
    {
     "data": {
      "text/plain": [
       "<matplotlib.collections.PathCollection at 0x7fee40718670>"
      ]
     },
     "execution_count": 5,
     "metadata": {},
     "output_type": "execute_result"
    },
    {
     "data": {
      "image/png": "[encoded data removed]",
      "text/plain": [
       "<Figure size 432x288 with 1 Axes>"
      ]
     },
     "metadata": {
      "needs_background": "light"
     },
     "output_type": "display_data"
    }
   ],
   "source": [
    "data=np.c_[y.reshape((len(y),1)),X]\n",
    "X0=data[data[:,0]==0]\n",
    "X1=data[data[:,0]==1]\n",
    "X2=data[data[:,0]==2]\n",
    "plt.scatter(X0[:,1],X0[:,2],marker='o')\n",
    "plt.scatter(X1[:,1],X1[:,2],marker='+')\n",
    "plt.scatter(X2[:,1],X2[:,2],marker='*')"
   ]
  },
  {
   "cell_type": "code",
   "execution_count": 6,
   "id": "9734bb01",
   "metadata": {},
   "outputs": [],
   "source": [
    "softmax=SoftMax(0.35,1000)"
   ]
  },
  {
   "cell_type": "code",
   "execution_count": 7,
   "id": "f02b1999",
   "metadata": {},
   "outputs": [],
   "source": [
    "softmax.fit(X,y,0)"
   ]
  },
  {
   "cell_type": "code",
   "execution_count": 8,
   "id": "5c9da640",
   "metadata": {},
   "outputs": [
    {
     "data": {
      "text/plain": [
       "0.96"
      ]
     },
     "execution_count": 8,
     "metadata": {},
     "output_type": "execute_result"
    }
   ],
   "source": [
    "X_test = X\n",
    "y_predict = softmax.predict(X_test)\n",
    "softmax.score(y,y_predict)"
   ]
  }
 ],
 "metadata": {
  "kernelspec": {
   "display_name": "data",
   "language": "python",
   "name": "python3"
  },
  "language_info": {
   "codemirror_mode": {
    "name": "ipython",
    "version": 3
   },
   "file_extension": ".py",
   "mimetype": "text/x-python",
   "name": "python",
   "nbconvert_exporter": "python",
   "pygments_lexer": "ipython3",
   "version": "3.9.1"
  },
  "toc": {
   "base_numbering": 1,
   "nav_menu": {},
   "number_sections": true,
   "sideBar": true,
   "skip_h1_title": false,
   "title_cell": "Table of Contents",
   "title_sidebar": "Contents",
   "toc_cell": false,
   "toc_position": {},
   "toc_section_display": true,
   "toc_window_display": false
  },
  "varInspector": {
   "cols": {
    "lenName": 16,
    "lenType": 16,
    "lenVar": 40
   },
   "kernels_config": {
    "python": {
     "delete_cmd_postfix": "",
     "delete_cmd_prefix": "del ",
     "library": "var_list.py",
     "varRefreshCmd": "print(var_dic_list())"
    },
    "r": {
     "delete_cmd_postfix": ") ",
     "delete_cmd_prefix": "rm(",
     "library": "var_list.r",
     "varRefreshCmd": "cat(var_dic_list()) "
    }
   },
   "types_to_exclude": [
    "module",
    "function",
    "builtin_function_or_method",
    "instance",
    "_Feature"
   ],
   "window_display": false
  },
  "vscode": {
   "interpreter": {
    "hash": "2bf105ce72d50ca166825387fb321f1d4e6a4bb5e80e72b90c2b534bf65d30b8"
   }
  }
 },
 "nbformat": 4,
 "nbformat_minor": 5
}
