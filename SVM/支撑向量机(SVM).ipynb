{
 "cells": [
  {
   "cell_type": "code",
   "execution_count": 1,
   "id": "484f0ec6",
   "metadata": {},
   "outputs": [],
   "source": [
    "import numpy as np\n",
    "import pandas as pd\n",
    "import random as rnd"
   ]
  },
  {
   "cell_type": "code",
   "execution_count": 2,
   "id": "1bc0062c",
   "metadata": {},
   "outputs": [],
   "source": [
    "class SVM():\n",
    "    def __init__(self,X,y,C = 1,b = 0 ,kernel_type=\"linear\",epsilon = 0.001,max_itera = 10000):\n",
    "        self.kernels = {'linear': self.kernel_linear,'quadratic': self.kernel_quadratic}\n",
    "        self.rows,self.columns = X.shape[0],X.shape[1]\n",
    "        self.alpha = np.zeros( self.rows )\n",
    "        self.w = np.zeros(self.columns)\n",
    "        self.kernel_type = kernel_type\n",
    "        self.max_itera = max_itera\n",
    "        self.epsilon = epsilon\n",
    "        self.C = C\n",
    "        self.b = b\n",
    "        self.X = X\n",
    "        self.y = y\n",
    "        \n",
    "    def kernel_linear(self,x1,x2):\n",
    "        return np.dot(x1,x2)\n",
    "    \n",
    "    def g(self,w,b,i):\n",
    "        return np.sign(np.dot(w,self.X[i].T) + b)\n",
    "    \n",
    "    def E_i(self,w,b,i):\n",
    "        return self.g(w,b,i) - self.y[ i ]\n",
    "    \n",
    "    def W(self,alpha):\n",
    "        return np.dot(np.multiply(alpha,self.y),self.X)\n",
    "    \n",
    "    def get_index_j(self,a,b,z):\n",
    "        i = z\n",
    "        cnt = 0\n",
    "        while i == z and cnt < 1000:\n",
    "            i = rnd.randint(a,b)\n",
    "            cnt = cnt + 1\n",
    "        return i\n",
    "    \n",
    "    def get_L_H(self, alpha_j, alpha_i, y_j, y_i):\n",
    "        if (y_i != y_j):\n",
    "            return (max(0, alpha_j - alpha_i), min(self.C, self.C - alpha_i + alpha_j))\n",
    "        else:\n",
    "            return (max(0, alpha_i + alpha_j - self.C), min(self.C, alpha_i + alpha_j))\n",
    "        \n",
    "    def kernel_quadratic():\n",
    "        pass\n",
    "    \n",
    "    def fit(self):\n",
    "        passes = 0\n",
    "        kernel = self.kernels[self.kernel_type]\n",
    "        while passes < self.max_itera:\n",
    "            num_changed_alpha = 0\n",
    "            for i in range( self.rows ):\n",
    "                E_i = self.E_i( self.W(self.alpha),self.b,i )\n",
    "                if(y[ i ]*E_i < -self.epsilon and self.alpha[ i ] < self.C) or ( y[ i ]*E_i > self.epsilon and self.alpha[ i ] > 0):\n",
    "                    j = self.get_index_j( 0,self.rows-1,i )\n",
    "                    E_j = self.E_i( self.W(self.alpha),self.b,j )\n",
    "                    \n",
    "                    alpha_old = np.copy(self.alpha) \n",
    "                    L,H = self.get_L_H( self.alpha[j],self.alpha[i],self.y[j],self.y[i] )\n",
    "                    if L == H:\n",
    "                        continue\n",
    "                    eta = -kernel(self.X[ i ],self.X[ i ]) -kernel(self.X[ j ],self.X[ j ]) + 2 * kernel(self.X[ i ],self.X[ j ])\n",
    "                    if eta >= 0:\n",
    "                        continue\n",
    "                    \n",
    "                    self.alpha[ j ] = self.alpha[ j ] - self.y[j]*((E_i - E_j)/eta)\n",
    "                    self.alpha[ j ] = max(self.alpha[ j ],L)\n",
    "                    self.alpha[ j ] = min(self.alpha[ j ],H)\n",
    "                    \n",
    "                    if abs( self.alpha[ j ] - alpha_old[ j ]) < 1e-5:\n",
    "                        continue\n",
    "                        \n",
    "                    self.alpha[ i ] = alpha_old[ i ] + self.y[ i ]*self.y[ j ] * (alpha_old[ j ] - self.alpha[ j ])\n",
    "                    \n",
    "                    b1 = self.b - E_i - self.y[ i ]*(self.alpha[i] - alpha_old[i])*kernel(self.X[ i ], self.X[ i ]) - self.y[ j ]*(self.alpha[ j ] - alpha_old[ j ])*kernel(self.X[ i ], self.X[ j ])\n",
    "                    b2 = self.b - E_j - self.y[ i ]*(self.alpha[i] - alpha_old[i])*kernel(self.X[ i ], self.X[ j ]) - self.y[ j ]*(self.alpha[ j ] - alpha_old[ j ])*kernel(self.X[ j ], self.X[ j ])\n",
    "                    \n",
    "                    if((0 < self.alpha[i] and self.alpha[i] < self.C) and (0 < self.alpha[j] and self.alpha[j] < self.C)):\n",
    "                        self.b = (b1 + b2)/2\n",
    "                    elif((0 < self.alpha[i] and self.alpha[i] < self.C)):\n",
    "                        self.b = b1\n",
    "                    elif ((0 < self.alpha[j] and self.alpha[j] < self.C)):\n",
    "                        self.b = b2\n",
    "                    else:\n",
    "                        self.b = (b1 + b2)/2\n",
    "                    \n",
    "                    num_changed_alpha += 1\n",
    "                if num_changed_alpha == 0:\n",
    "                    passes += 1\n",
    "                else:\n",
    "                    passes = 0\n",
    "                    \n",
    "            self.w = self.W(self.alpha)\n",
    "            \n",
    "            alpha_idx = np.where(self.alpha > 0)[0]\n",
    "            support_vectors = self.X[alpha_idx]\n",
    "            return support_vectors\n",
    "        \n",
    "        \n",
    "    def predict(self,X):\n",
    "        return np.sign(np.dot(self.w, X.T) + self.b).astype(int)\n",
    "    \n",
    "    def precision(self,X,y):\n",
    "        predict = self.predict(X)\n",
    "        predict = np.where(predict==1,1,0)\n",
    "        TP = np.sum(np.where(y==predict,1,0))\n",
    "        return TP/sum(predict)\n",
    "    \n",
    "    def recall(self,X,y):\n",
    "        TP_FN = sum(np.where(y==1,1,0))\n",
    "        predict = self.predict(X)\n",
    "        predict = np.where(predict==1,1,0)\n",
    "        TP = np.sum(np.where(y==predict,1,0))\n",
    "        return TP/TP_FN            "
   ]
  },
  {
   "cell_type": "code",
   "execution_count": 3,
   "id": "a2b66ea0",
   "metadata": {},
   "outputs": [],
   "source": [
    "data=pd.read_csv(\"~/Binary-classification-dataset-master/data0/data.csv\", names = ['label','x1', 'x2'])"
   ]
  },
  {
   "cell_type": "code",
   "execution_count": 4,
   "id": "61535a39",
   "metadata": {},
   "outputs": [],
   "source": [
    "X=data.values[:,1:]\n",
    "y=data.values[:,0]"
   ]
  },
  {
   "cell_type": "code",
   "execution_count": 5,
   "id": "6d4b1842",
   "metadata": {},
   "outputs": [],
   "source": [
    "model=SVM(X,y)"
   ]
  },
  {
   "cell_type": "code",
   "execution_count": 6,
   "id": "76f71b7d",
   "metadata": {},
   "outputs": [
    {
     "data": {
      "text/plain": [
       "array([[2.4711, 5.8097],\n",
       "       [1.169 , 0.9008],\n",
       "       [4.0693, 6.2652],\n",
       "       [4.7598, 7.1508],\n",
       "       [5.7068, 8.3148],\n",
       "       [4.5822, 2.7227],\n",
       "       [2.9841, 1.6852],\n",
       "       [6.7722, 6.6953],\n",
       "       [7.1471, 6.6194],\n",
       "       [7.6206, 8.5931],\n",
       "       [5.0163, 2.3684]])"
      ]
     },
     "execution_count": 6,
     "metadata": {},
     "output_type": "execute_result"
    }
   ],
   "source": [
    "model.fit()"
   ]
  },
  {
   "cell_type": "code",
   "execution_count": 7,
   "id": "17d89a6a",
   "metadata": {},
   "outputs": [
    {
     "data": {
      "text/plain": [
       "1.0"
      ]
     },
     "execution_count": 7,
     "metadata": {},
     "output_type": "execute_result"
    }
   ],
   "source": [
    "model.precision(X,y)"
   ]
  },
  {
   "cell_type": "code",
   "execution_count": 8,
   "id": "70d8735a",
   "metadata": {},
   "outputs": [
    {
     "data": {
      "text/plain": [
       "0.94"
      ]
     },
     "execution_count": 8,
     "metadata": {},
     "output_type": "execute_result"
    }
   ],
   "source": [
    "model.recall(X,y)"
   ]
  },
  {
   "cell_type": "code",
   "execution_count": null,
   "id": "b72bf149",
   "metadata": {},
   "outputs": [],
   "source": []
  }
 ],
 "metadata": {
  "kernelspec": {
   "display_name": "data",
   "language": "python",
   "name": "python3"
  },
  "language_info": {
   "codemirror_mode": {
    "name": "ipython",
    "version": 3
   },
   "file_extension": ".py",
   "mimetype": "text/x-python",
   "name": "python",
   "nbconvert_exporter": "python",
   "pygments_lexer": "ipython3",
   "version": "3.9.1"
  },
  "toc": {
   "base_numbering": 1,
   "nav_menu": {},
   "number_sections": true,
   "sideBar": true,
   "skip_h1_title": false,
   "title_cell": "Table of Contents",
   "title_sidebar": "Contents",
   "toc_cell": false,
   "toc_position": {},
   "toc_section_display": true,
   "toc_window_display": false
  },
  "varInspector": {
   "cols": {
    "lenName": 16,
    "lenType": 16,
    "lenVar": 40
   },
   "kernels_config": {
    "python": {
     "delete_cmd_postfix": "",
     "delete_cmd_prefix": "del ",
     "library": "var_list.py",
     "varRefreshCmd": "print(var_dic_list())"
    },
    "r": {
     "delete_cmd_postfix": ") ",
     "delete_cmd_prefix": "rm(",
     "library": "var_list.r",
     "varRefreshCmd": "cat(var_dic_list()) "
    }
   },
   "types_to_exclude": [
    "module",
    "function",
    "builtin_function_or_method",
    "instance",
    "_Feature"
   ],
   "window_display": false
  },
  "vscode": {
   "interpreter": {
    "hash": "2bf105ce72d50ca166825387fb321f1d4e6a4bb5e80e72b90c2b534bf65d30b8"
   }
  }
 },
 "nbformat": 4,
 "nbformat_minor": 5
}
