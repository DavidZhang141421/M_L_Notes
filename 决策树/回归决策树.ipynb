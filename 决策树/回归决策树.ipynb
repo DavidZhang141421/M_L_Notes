{
 "cells": [
  {
   "cell_type": "code",
   "execution_count": 1,
   "id": "0163c19c",
   "metadata": {},
   "outputs": [],
   "source": [
    "import numpy as np\n",
    "import pandas as pd\n",
    "from sklearn.metrics import accuracy_score,mean_squared_error\n",
    "from sklearn.model_selection import train_test_split\n",
    "from sklearn.datasets import load_boston"
   ]
  },
  {
   "cell_type": "code",
   "execution_count": 2,
   "id": "7fe55438",
   "metadata": {},
   "outputs": [],
   "source": [
    "class Node():\n",
    "    def __init__(self):\n",
    "        self.Average = 0\n",
    "        self.Depth = 1\n",
    "        self.Left = None\n",
    "        self.Right = None\n",
    "        self.Feature = None\n",
    "        self.Threshlod = None\n",
    "        self.Is_terminal = None"
   ]
  },
  {
   "cell_type": "code",
   "execution_count": 3,
   "id": "c378e029",
   "metadata": {},
   "outputs": [
    {
     "name": "stdout",
     "output_type": "stream",
     "text": [
      "验证集的均方根误差（rmse）是： 6.1504841990166055\n"
     ]
    }
   ],
   "source": [
    " class DecisionTreeReg():\n",
    "    def __init__(self,max_depth = 3,min_sample_leaf = 1,min_sample_split = 2):\n",
    "        self.max_depth = max_depth\n",
    "        self.min_sample_leaf = min_sample_leaf\n",
    "        self.min_sample_split = min_sample_split\n",
    "        self.Tree = None\n",
    "        \n",
    "    def Avg(self,y):\n",
    "        return sum(y) / y.shape[ 0 ]\n",
    "    \n",
    "    def MSE( self,y,y_pred ):\n",
    "        return sum((y-y_pred)**2)\n",
    "    \n",
    "    def BestFeatureSplit( self,X,y ):\n",
    "        BestSplitFea = None\n",
    "        BestThre = None\n",
    "        MinMse = np.inf\n",
    "        \n",
    "        for i in range( X.shape[ 1 ] ):\n",
    "            fea_i = X[ :,i ]\n",
    "            for item_j in np.unique(fea_i):\n",
    "                threshold = item_j\n",
    "                y_left = y[ fea_i <= threshold ]\n",
    "                y_right = y[ fea_i > threshold ]\n",
    "                if y_left.shape[ 0 ] == 0 or y_right.shape[ 0 ] == 0 :\n",
    "                    continue\n",
    "                    \n",
    "                y_pred_left = self.Avg( y_left )\n",
    "                y_pred_right = self.Avg( y_right )\n",
    "                mse = self.MSE( y_left,y_pred_left ) + self.MSE( y_right, y_pred_right)\n",
    "                \n",
    "                if MinMse > mse:\n",
    "                    MinMse = mse\n",
    "                    BestSplitFea = i\n",
    "                    BestThre = threshold\n",
    "                    \n",
    "        X_col = X[ :,BestSplitFea ]\n",
    "        X_left ,X_right = X[ X_col <= BestThre,: ],X[ X_col > BestThre,: ]\n",
    "        y_left, y_right = y[ X_col <= BestThre ],y[ X_col > BestThre]\n",
    "        \n",
    "        return BestSplitFea,BestThre,X_left,y_left,X_right,y_right\n",
    "    \n",
    "    def CreateTree(self,X,y,node):\n",
    "        \n",
    "        if node.Depth > self.max_depth:\n",
    "            node.Is_terminal = True\n",
    "            return \n",
    "        if X.shape[ 0 ] <= self.min_sample_split:\n",
    "            node.Is_terminal = True\n",
    "            return \n",
    "        \n",
    "        splitCol,thresh,X_left,y_left,X_right,y_right = self.BestFeatureSplit( X,y )\n",
    "        if X_left.shape[ 0 ] < self.min_sample_leaf or X_right.shape[ 0 ] < self.min_sample_leaf:\n",
    "            node.Is_terminal = True\n",
    "            return \n",
    "        \n",
    "        node.Feature = splitCol\n",
    "        node.Threshlod = thresh\n",
    "        \n",
    "        node.Left = Node()\n",
    "        node.Left.Depth = node.Depth + 1\n",
    "        node.Left.Average = self.Avg( y_left )\n",
    "        \n",
    "        node.Right = Node()\n",
    "        node.Right.Depth = node.Depth + 1\n",
    "        node.Right.Average = self.Avg( y_right )\n",
    "        \n",
    "        self.CreateTree( X_left,y_left,node.Left )\n",
    "        self.CreateTree( X_right,y_right,node.Right )\n",
    "        \n",
    "    def fit(self,X,y):\n",
    "        self.Tree = Node()\n",
    "        self.Tree.Average = 0\n",
    "        self.CreateTree( X,y,self.Tree )\n",
    "        \n",
    "    def predictSample(self,x,node):\n",
    "        if node.Is_terminal:\n",
    "            return node.Average\n",
    "        \n",
    "        if x[node.Feature] > node.Threshlod:\n",
    "            y_pred =  self.predictSample( x,node.Right )\n",
    "        else:\n",
    "            y_pred =  self.predictSample( x,node.Left )\n",
    "            \n",
    "        return y_pred\n",
    "    \n",
    "    def predict( self,X ):\n",
    "        y_preds = [ ]\n",
    "        for x in X:\n",
    "            y_pred = self.predictSample(x,self.Tree)\n",
    "            y_preds.append( y_pred )\n",
    "        return np.asarray( y_preds ) \n",
    "    \n",
    "    \n",
    "if __name__ == \"__main__\":\n",
    "    dates = load_boston()\n",
    "    X = dates.data\n",
    "    y= dates.target\n",
    "    X_train, X_test, y_train, y_test = train_test_split(X, y, test_size=0.2, random_state=0)\n",
    "    model = DecisionTreeReg(max_depth = 20, min_sample_leaf = 1,min_sample_split = 2)\n",
    "    model.fit(X_train, y_train)  \n",
    "    y_pred=model.predict(X_test)\n",
    "    print(\"验证集的均方根误差（rmse）是：\",np.sqrt(mean_squared_error(y_test,y_pred)))"
   ]
  }
 ],
 "metadata": {
  "kernelspec": {
   "display_name": "data",
   "language": "python",
   "name": "python3"
  },
  "language_info": {
   "codemirror_mode": {
    "name": "ipython",
    "version": 3
   },
   "file_extension": ".py",
   "mimetype": "text/x-python",
   "name": "python",
   "nbconvert_exporter": "python",
   "pygments_lexer": "ipython3",
   "version": "3.9.1"
  },
  "toc": {
   "base_numbering": 1,
   "nav_menu": {},
   "number_sections": true,
   "sideBar": true,
   "skip_h1_title": false,
   "title_cell": "Table of Contents",
   "title_sidebar": "Contents",
   "toc_cell": false,
   "toc_position": {},
   "toc_section_display": true,
   "toc_window_display": false
  },
  "varInspector": {
   "cols": {
    "lenName": 16,
    "lenType": 16,
    "lenVar": 40
   },
   "kernels_config": {
    "python": {
     "delete_cmd_postfix": "",
     "delete_cmd_prefix": "del ",
     "library": "var_list.py",
     "varRefreshCmd": "print(var_dic_list())"
    },
    "r": {
     "delete_cmd_postfix": ") ",
     "delete_cmd_prefix": "rm(",
     "library": "var_list.r",
     "varRefreshCmd": "cat(var_dic_list()) "
    }
   },
   "types_to_exclude": [
    "module",
    "function",
    "builtin_function_or_method",
    "instance",
    "_Feature"
   ],
   "window_display": false
  },
  "vscode": {
   "interpreter": {
    "hash": "2bf105ce72d50ca166825387fb321f1d4e6a4bb5e80e72b90c2b534bf65d30b8"
   }
  }
 },
 "nbformat": 4,
 "nbformat_minor": 5
}
