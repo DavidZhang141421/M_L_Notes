{
 "cells": [
  {
   "cell_type": "code",
   "execution_count": 1,
   "id": "725c21f1",
   "metadata": {},
   "outputs": [],
   "source": [
    "import numpy as np\n",
    "import pandas as pd\n",
    "import matplotlib.pyplot as plt\n",
    "from sklearn.datasets import load_iris"
   ]
  },
  {
   "cell_type": "code",
   "execution_count": 2,
   "id": "f59f316a",
   "metadata": {},
   "outputs": [],
   "source": [
    "class GaussDiscriminant():\n",
    "    def __init__(self,mu0=0,mu1=0,sigma=0):\n",
    "        self.phi1=0\n",
    "        self.phi0=0\n",
    "        self.mu0=mu0\n",
    "        self.mu1=mu1\n",
    "        self.sigma=sigma\n",
    "        self.index0=0\n",
    "        self.index1=0\n",
    "        self.probability=0\n",
    "        self.predict_type=0\n",
    "        \n",
    "    def GaussMass(self,X):\n",
    "        n=len(X[0])\n",
    "        det=np.linalg.det(self.sigma)\n",
    "        inverse=np.linalg.inv(self.sigma)\n",
    "        matrix0=(X-self.mu0)\n",
    "        matrix1=(X-self.mu1)\n",
    "        row,column=matrix0.shape\n",
    "        sigma0=-(1/2)*((matrix0.dot(inverse)).dot(matrix0.reshape((column,row))))\n",
    "        sigma1=-(1/2)*((matrix1.dot(inverse)).dot(matrix1.reshape((column,row))))\n",
    "        sigma0=np.diagonal(sigma0)\n",
    "        sigma1=np.diagonal(sigma1)\n",
    "        p0=(1/np.power(2*np.pi,n/2))*np.exp(sigma0)\n",
    "        p1=(1/np.power(2*np.pi,n/2))*np.exp(sigma1)\n",
    "        return p0,p1\n",
    "        \n",
    "        \n",
    "    def fit(self,X,y):\n",
    "        N=len(y)\n",
    "        self.phi1=np.sum(y)/N\n",
    "        self.phi0=1-np.sum(y)/N\n",
    "        self.index0=np.argwhere(y==0).flatten()\n",
    "        self.index1=np.argwhere(y==1).flatten()\n",
    "        X0=X[self.index0,:]\n",
    "        X1=X[self.index1,:]\n",
    "        self.mu0=np.sum(X0,axis=0)/len(X0)\n",
    "        self.mu1=np.sum(X1,axis=0)/len(X1)\n",
    "        X_sigma0=X0-self.mu0\n",
    "        X_sigma1=X1-self.mu1\n",
    "        vector_len=len(X0[0])\n",
    "        sigma1=np.zeros((vector_len,vector_len))\n",
    "        for i in range(len(X0)):\n",
    "            sigma1=sigma1+(X_sigma0[i].reshape((vector_len,1))).dot(X_sigma0[i].reshape((1,vector_len)))\n",
    "        sigma2=np.zeros((sigma1.shape[0],sigma1.shape[1]))\n",
    "        for j in range(len(X1)):\n",
    "            sigma2=sigma2+(X_sigma1[j].reshape((vector_len,1))).dot(X_sigma1[j].reshape((1,vector_len)))\n",
    "        self.sigma=sigma1+sigma2  \n",
    "        \n",
    "    def probablity(self,X):\n",
    "        row0,row1=self.GaussMass(X)\n",
    "        class_type=np.array([row0,row1])\n",
    "        prob_y=np.array([self.phi0,self.phi1]).reshape((2,1))\n",
    "        chass_type1=prob_y*class_type\n",
    "        chass_type2=np.sum(chass_type1,axis=0)\n",
    "        class_type3=(1/chass_type2)*chass_type1\n",
    "        self.probability=class_type3\n",
    "        return class_type3\n",
    "        \n",
    "    def predict(self,X):\n",
    "        probablity=self.probablity(X)\n",
    "        predict_type=np.argmax(probablity,axis=0)\n",
    "        self.predict_type=predict_type\n",
    "        return predict_type \n",
    "    \n",
    "    def score(self,y):\n",
    "        predict=self.predict_type\n",
    "        return np.sum(np.where(y==predict,1,0))/len(y)"
   ]
  },
  {
   "cell_type": "code",
   "execution_count": 3,
   "id": "6bae598c",
   "metadata": {},
   "outputs": [],
   "source": [
    "data=load_iris()"
   ]
  },
  {
   "cell_type": "code",
   "execution_count": 4,
   "id": "d195e71c",
   "metadata": {},
   "outputs": [],
   "source": [
    "binary_data_index=np.argwhere(data['target']!=2).flatten()\n",
    "X=data['data'][binary_data_index,2:]\n",
    "y=data['target'][binary_data_index]"
   ]
  },
  {
   "cell_type": "code",
   "execution_count": 5,
   "id": "c6204d92",
   "metadata": {},
   "outputs": [],
   "source": [
    "index0=np.argwhere(y==0).flatten()\n",
    "index1=np.argwhere(y==1).flatten()\n",
    "X0=X[index0,:]\n",
    "X1=X[index1,:]"
   ]
  },
  {
   "cell_type": "code",
   "execution_count": 6,
   "id": "e48dffbf",
   "metadata": {},
   "outputs": [
    {
     "data": {
      "text/plain": [
       "<matplotlib.collections.PathCollection at 0x7f941122e370>"
      ]
     },
     "execution_count": 6,
     "metadata": {},
     "output_type": "execute_result"
    },
    {
     "data": {
      "image/png": "[encoded data removed]",
      "text/plain": [
       "<Figure size 432x288 with 1 Axes>"
      ]
     },
     "metadata": {
      "needs_background": "light"
     },
     "output_type": "display_data"
    }
   ],
   "source": [
    "plt.scatter(X0[:,0],X0[:,1],marker='o')\n",
    "plt.scatter(X1[:,0],X1[:,1],marker='+')"
   ]
  },
  {
   "cell_type": "code",
   "execution_count": 7,
   "id": "8d4ad884",
   "metadata": {},
   "outputs": [],
   "source": [
    "gauss=GaussDiscriminant()"
   ]
  },
  {
   "cell_type": "code",
   "execution_count": 8,
   "id": "6b949c03",
   "metadata": {},
   "outputs": [],
   "source": [
    "gauss.fit(X,y)"
   ]
  },
  {
   "cell_type": "code",
   "execution_count": 9,
   "id": "ef193e5e",
   "metadata": {},
   "outputs": [
    {
     "data": {
      "text/plain": [
       "array([0, 0, 0, 0, 0, 0, 0, 0, 0, 0, 0, 0, 0, 0, 0, 0, 0, 0, 0, 0, 0, 0,\n",
       "       0, 0, 0, 0, 0, 0, 0, 0, 0, 0, 0, 0, 0, 0, 0, 0, 0, 0, 0, 0, 0, 1,\n",
       "       0, 0, 0, 0, 0, 0, 1, 1, 1, 1, 1, 1, 1, 1, 1, 1, 1, 1, 0, 1, 1, 1,\n",
       "       1, 1, 1, 1, 1, 1, 1, 1, 1, 1, 1, 1, 1, 1, 1, 1, 1, 1, 1, 1, 1, 1,\n",
       "       1, 1, 1, 1, 1, 1, 1, 1, 1, 1, 1, 1])"
      ]
     },
     "execution_count": 9,
     "metadata": {},
     "output_type": "execute_result"
    }
   ],
   "source": [
    "gauss.predict(X)"
   ]
  },
  {
   "cell_type": "code",
   "execution_count": 10,
   "id": "c3f11deb",
   "metadata": {},
   "outputs": [
    {
     "data": {
      "text/plain": [
       "0.98"
      ]
     },
     "execution_count": 10,
     "metadata": {},
     "output_type": "execute_result"
    }
   ],
   "source": [
    "gauss.score(y)"
   ]
  }
 ],
 "metadata": {
  "kernelspec": {
   "display_name": "data",
   "language": "python",
   "name": "python3"
  },
  "language_info": {
   "codemirror_mode": {
    "name": "ipython",
    "version": 3
   },
   "file_extension": ".py",
   "mimetype": "text/x-python",
   "name": "python",
   "nbconvert_exporter": "python",
   "pygments_lexer": "ipython3",
   "version": "3.9.1"
  },
  "toc": {
   "base_numbering": 1,
   "nav_menu": {},
   "number_sections": true,
   "sideBar": true,
   "skip_h1_title": false,
   "title_cell": "Table of Contents",
   "title_sidebar": "Contents",
   "toc_cell": false,
   "toc_position": {},
   "toc_section_display": true,
   "toc_window_display": false
  },
  "varInspector": {
   "cols": {
    "lenName": 16,
    "lenType": 16,
    "lenVar": 40
   },
   "kernels_config": {
    "python": {
     "delete_cmd_postfix": "",
     "delete_cmd_prefix": "del ",
     "library": "var_list.py",
     "varRefreshCmd": "print(var_dic_list())"
    },
    "r": {
     "delete_cmd_postfix": ") ",
     "delete_cmd_prefix": "rm(",
     "library": "var_list.r",
     "varRefreshCmd": "cat(var_dic_list()) "
    }
   },
   "types_to_exclude": [
    "module",
    "function",
    "builtin_function_or_method",
    "instance",
    "_Feature"
   ],
   "window_display": false
  },
  "vscode": {
   "interpreter": {
    "hash": "2bf105ce72d50ca166825387fb321f1d4e6a4bb5e80e72b90c2b534bf65d30b8"
   }
  }
 },
 "nbformat": 4,
 "nbformat_minor": 5
}
