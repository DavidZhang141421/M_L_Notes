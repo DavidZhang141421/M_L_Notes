{
 "cells": [
  {
   "cell_type": "code",
   "execution_count": 1,
   "id": "95c0558a",
   "metadata": {},
   "outputs": [],
   "source": [
    "import numpy as np\n",
    "import pandas as pd\n",
    "import matplotlib.pyplot as plt"
   ]
  },
  {
   "cell_type": "code",
   "execution_count": 2,
   "metadata": {},
   "outputs": [],
   "source": [
    "class LogisticRegresion():\n",
    "    def __init__(self,alpha = 0.05,itera = 1000):\n",
    "        \"\"\"alpha:学习率\n",
    "           itera:迭代次数\n",
    "           result:初始值是0,用于保存预测的结果\n",
    "           theta:要训练的参数\"\"\"\n",
    "        self.alpha = alpha\n",
    "        self.itera = itera\n",
    "        self.result = 0\n",
    "        self.theta = 0\n",
    "        \n",
    "    def sigmoid(self,X):\n",
    "        return 1/(1 + np.exp(-X))\n",
    "    \n",
    "    def init_input(self,X):\n",
    "        X = np.c_[np.ones((X.shape[ 0 ],1)),X]\n",
    "        theta = np.zeros((X.shape[ 1 ],1))\n",
    "        return theta,X\n",
    "    \n",
    "    def fit(self,X,y):\n",
    "        theta,X = self.init_input(X)\n",
    "        m = X.shape[ 0 ]\n",
    "        y = y.reshape(m,1)\n",
    "        for i in range(self.itera):\n",
    "            sigmoid = self.sigmoid(X.dot(theta))\n",
    "            error = y - sigmoid\n",
    "            theta += (self.alpha)*(np.dot(X.T,error))\n",
    "        self.theta = theta\n",
    "        \n",
    "    def predict(self,X,threshold = 0.5):\n",
    "        \"\"\"threshold:默认阈值是0.5,即大雨0.5就是正类,反之就是负类\"\"\"\n",
    "        X = self.init_input(X)[ 1 ]\n",
    "        theta = self.theta\n",
    "        sigmoid = self.sigmoid(X.dot(theta))\n",
    "        result = np.where(sigmoid>threshold,1,0)#改阈值可以提高分辨程度\n",
    "        self.result = result\n",
    "        return result.T\n",
    "    \n",
    "    def accury(self,y):\n",
    "        y = y.reshape(len(y),1)\n",
    "        accury = np.where(y==self.result,1,0)\n",
    "        accury = np.sum(accury)/len(y)\n",
    "        return accury\n",
    "    "
   ]
  },
  {
   "cell_type": "code",
   "execution_count": 4,
   "id": "cdc6384e",
   "metadata": {},
   "outputs": [],
   "source": [
    "data=pd.read_csv(r'~/Binary-classification-dataset-master/data0/data.csv',\n",
    "                names = ['label','x1', 'x2'])"
   ]
  },
  {
   "cell_type": "code",
   "execution_count": 5,
   "id": "7ac6164f",
   "metadata": {},
   "outputs": [
    {
     "data": {
      "text/html": [
       "<div>\n",
       "<style scoped>\n",
       "    .dataframe tbody tr th:only-of-type {\n",
       "        vertical-align: middle;\n",
       "    }\n",
       "\n",
       "    .dataframe tbody tr th {\n",
       "        vertical-align: top;\n",
       "    }\n",
       "\n",
       "    .dataframe thead th {\n",
       "        text-align: right;\n",
       "    }\n",
       "</style>\n",
       "<table border=\"1\" class=\"dataframe\">\n",
       "  <thead>\n",
       "    <tr style=\"text-align: right;\">\n",
       "      <th></th>\n",
       "      <th>label</th>\n",
       "      <th>x1</th>\n",
       "      <th>x2</th>\n",
       "    </tr>\n",
       "  </thead>\n",
       "  <tbody>\n",
       "    <tr>\n",
       "      <th>0</th>\n",
       "      <td>1.0</td>\n",
       "      <td>2.6487</td>\n",
       "      <td>4.5192</td>\n",
       "    </tr>\n",
       "    <tr>\n",
       "      <th>1</th>\n",
       "      <td>1.0</td>\n",
       "      <td>1.5438</td>\n",
       "      <td>2.4443</td>\n",
       "    </tr>\n",
       "    <tr>\n",
       "      <th>2</th>\n",
       "      <td>1.0</td>\n",
       "      <td>1.8990</td>\n",
       "      <td>4.2409</td>\n",
       "    </tr>\n",
       "    <tr>\n",
       "      <th>3</th>\n",
       "      <td>1.0</td>\n",
       "      <td>2.4711</td>\n",
       "      <td>5.8097</td>\n",
       "    </tr>\n",
       "    <tr>\n",
       "      <th>4</th>\n",
       "      <td>1.0</td>\n",
       "      <td>3.3590</td>\n",
       "      <td>6.4423</td>\n",
       "    </tr>\n",
       "  </tbody>\n",
       "</table>\n",
       "</div>"
      ],
      "text/plain": [
       "   label      x1      x2\n",
       "0    1.0  2.6487  4.5192\n",
       "1    1.0  1.5438  2.4443\n",
       "2    1.0  1.8990  4.2409\n",
       "3    1.0  2.4711  5.8097\n",
       "4    1.0  3.3590  6.4423"
      ]
     },
     "execution_count": 5,
     "metadata": {},
     "output_type": "execute_result"
    }
   ],
   "source": [
    "data.head()"
   ]
  },
  {
   "cell_type": "code",
   "execution_count": 5,
   "id": "faaa057a",
   "metadata": {},
   "outputs": [],
   "source": [
    "X1 = data[data['label'] == 1]\n",
    "X1 = X1[[\"x1\",\"x2\"]]\n",
    "X2 = data[ data['label'] != 1 ]\n",
    "X2 = X2[[\"x1\",\"x2\"]]"
   ]
  },
  {
   "cell_type": "code",
   "execution_count": 6,
   "id": "338a3f46",
   "metadata": {},
   "outputs": [
    {
     "data": {
      "text/plain": [
       "<matplotlib.collections.PathCollection at 0x7f8b192cadf0>"
      ]
     },
     "execution_count": 6,
     "metadata": {},
     "output_type": "execute_result"
    },
    {
     "data": {
      "image/png": "[encoded data removed]",
      "text/plain": [
       "<Figure size 288x216 with 1 Axes>"
      ]
     },
     "metadata": {
      "needs_background": "light"
     },
     "output_type": "display_data"
    }
   ],
   "source": [
    "fig, ax = plt.subplots(figsize = (4,3))\n",
    "ax.scatter(X1['x1'],X1['x2'],marker = \"+\",color = 'red')\n",
    "ax.scatter(X2['x1'],X2['x2'],marker = \"o\")"
   ]
  },
  {
   "cell_type": "code",
   "execution_count": 7,
   "id": "859eae35",
   "metadata": {},
   "outputs": [],
   "source": [
    "X = data[[\"x1\",\"x2\"]].values\n",
    "y = data['label'].values\n",
    "y = np.where(y < 0,0,y)"
   ]
  },
  {
   "cell_type": "code",
   "execution_count": 8,
   "id": "8cda3cf7",
   "metadata": {},
   "outputs": [],
   "source": [
    "logic = LogisticRegresion(alpha = 0.01,itera = 500)"
   ]
  },
  {
   "cell_type": "code",
   "execution_count": 9,
   "id": "8c2968e8",
   "metadata": {},
   "outputs": [],
   "source": [
    "logic.fit(X,y)"
   ]
  },
  {
   "cell_type": "code",
   "execution_count": 10,
   "id": "2c5319a5",
   "metadata": {},
   "outputs": [
    {
     "data": {
      "text/plain": [
       "array([[1, 1, 1, 1, 1, 1, 1, 1, 1, 1, 1, 1, 1, 1, 1, 1, 1, 1, 1, 1, 1, 1,\n",
       "        1, 1, 1, 1, 1, 1, 1, 1, 1, 1, 1, 1, 1, 1, 1, 1, 1, 1, 1, 1, 1, 1,\n",
       "        1, 1, 1, 1, 1, 1, 0, 0, 0, 0, 0, 0, 0, 0, 0, 0, 0, 0, 0, 0, 0, 0,\n",
       "        0, 0, 0, 0, 0, 0, 0, 0, 0, 0, 0, 0, 0, 0, 0, 0, 0, 0, 0, 0, 0, 0,\n",
       "        0, 0, 0, 0, 0, 0, 0, 0, 0, 0, 0, 0]])"
      ]
     },
     "execution_count": 10,
     "metadata": {},
     "output_type": "execute_result"
    }
   ],
   "source": [
    "logic.predict(X)"
   ]
  },
  {
   "cell_type": "code",
   "execution_count": 11,
   "id": "a38507c5",
   "metadata": {},
   "outputs": [
    {
     "data": {
      "text/plain": [
       "1.0"
      ]
     },
     "execution_count": 11,
     "metadata": {},
     "output_type": "execute_result"
    }
   ],
   "source": [
    "logic.accury(y)"
   ]
  },
  {
   "cell_type": "code",
   "execution_count": 12,
   "id": "b409d179",
   "metadata": {},
   "outputs": [],
   "source": [
    "def sigmoid(x1,x2):\n",
    "    \"\"\"定义等高线图的对应关系\"\"\"\n",
    "    theta = logic.theta\n",
    "    return 1/(1+np.exp(theta[0]+theta[1]*x1+theta[2]*x2))"
   ]
  },
  {
   "cell_type": "code",
   "execution_count": 13,
   "id": "ce382e0a",
   "metadata": {},
   "outputs": [],
   "source": [
    "x1=np.linspace(0,9,100)\n",
    "x2=np.linspace(0,9,100)\n",
    "Z1,Z2=np.meshgrid(x1,x2)"
   ]
  },
  {
   "cell_type": "code",
   "execution_count": 14,
   "id": "edd03a3d",
   "metadata": {},
   "outputs": [
    {
     "data": {
      "text/plain": [
       "<matplotlib.collections.PathCollection at 0x7f8b38bd7460>"
      ]
     },
     "execution_count": 14,
     "metadata": {},
     "output_type": "execute_result"
    },
    {
     "data": {
      "image/png": "[encoded data removed]",
      "text/plain": [
       "<Figure size 288x216 with 1 Axes>"
      ]
     },
     "metadata": {
      "needs_background": "light"
     },
     "output_type": "display_data"
    }
   ],
   "source": [
    "fig, ax = plt.subplots( figsize=(4,3))\n",
    "ax.contour(Z1,Z2,sigmoid(Z1,Z2),[0.5],colors='r')\n",
    "ax.scatter(X1['x1'],X1['x2'],marker=\"+\",color = 'red')\n",
    "ax.scatter(X2['x1'],X2['x2'],marker=\"o\")"
   ]
  }
 ],
 "metadata": {
  "kernelspec": {
   "display_name": "data",
   "language": "python",
   "name": "python3"
  },
  "language_info": {
   "codemirror_mode": {
    "name": "ipython",
    "version": 3
   },
   "file_extension": ".py",
   "mimetype": "text/x-python",
   "name": "python",
   "nbconvert_exporter": "python",
   "pygments_lexer": "ipython3",
   "version": "3.9.1"
  },
  "toc": {
   "base_numbering": 1,
   "nav_menu": {},
   "number_sections": true,
   "sideBar": true,
   "skip_h1_title": false,
   "title_cell": "Table of Contents",
   "title_sidebar": "Contents",
   "toc_cell": false,
   "toc_position": {},
   "toc_section_display": true,
   "toc_window_display": false
  },
  "varInspector": {
   "cols": {
    "lenName": 16,
    "lenType": 16,
    "lenVar": 40
   },
   "kernels_config": {
    "python": {
     "delete_cmd_postfix": "",
     "delete_cmd_prefix": "del ",
     "library": "var_list.py",
     "varRefreshCmd": "print(var_dic_list())"
    },
    "r": {
     "delete_cmd_postfix": ") ",
     "delete_cmd_prefix": "rm(",
     "library": "var_list.r",
     "varRefreshCmd": "cat(var_dic_list()) "
    }
   },
   "types_to_exclude": [
    "module",
    "function",
    "builtin_function_or_method",
    "instance",
    "_Feature"
   ],
   "window_display": false
  },
  "vscode": {
   "interpreter": {
    "hash": "2bf105ce72d50ca166825387fb321f1d4e6a4bb5e80e72b90c2b534bf65d30b8"
   }
  }
 },
 "nbformat": 4,
 "nbformat_minor": 5
}
