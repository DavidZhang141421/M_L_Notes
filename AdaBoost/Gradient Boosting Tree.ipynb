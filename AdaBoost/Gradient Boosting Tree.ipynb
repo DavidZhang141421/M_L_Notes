{
 "cells": [
  {
   "cell_type": "code",
   "execution_count": 1,
   "id": "02fbd256",
   "metadata": {},
   "outputs": [],
   "source": [
    "import numpy as np\n",
    "import pandas as pd\n",
    "from sklearn.model_selection import train_test_split\n",
    "from sklearn.metrics import accuracy_score\n",
    "from sklearn.datasets import load_breast_cancer"
   ]
  },
  {
   "cell_type": "code",
   "execution_count": 2,
   "id": "5b38a888",
   "metadata": {},
   "outputs": [],
   "source": [
    "class Node( ):\n",
    "    def __init__(self):\n",
    "        self.Value = 0\n",
    "        self.Depth = 1\n",
    "        self.Left = None \n",
    "        self.Right = None \n",
    "        self.Threshold = None\n",
    "        self.Is_terminal = None \n",
    "        self.Feature = None"
   ]
  },
  {
   "cell_type": "code",
   "execution_count": 3,
   "id": "9b295898",
   "metadata": {},
   "outputs": [],
   "source": [
    "class RegTree( ):\n",
    "    def __init__(self,max_depth = 10, min_sample_leaf = 1,min_sample_split = 2):\n",
    "        self.max_depth = max_depth \n",
    "        self.min_sample_leaf = min_sample_leaf\n",
    "        self.min_sample_split = min_sample_split\n",
    "        self.Tree = None\n",
    "        \n",
    "    def Avg(self,y):\n",
    "        return sum(y) / y.shape[ 0 ]\n",
    "        \n",
    "    def MSE( self,y,c ):\n",
    "        return sum((y-c)**2)\n",
    "    \n",
    "    def C_mj(self,y,residual):\n",
    "        nominator =  sum( residual )\n",
    "        denominator = sum(np.multiply(y - residual, 1 - y + residual))\n",
    "        return nominator / denominator\n",
    "    \n",
    "    def BestSplitFeature(self,X,y,residual):\n",
    "        BestFeature = None\n",
    "        Threshold = None\n",
    "        MinMse = np.inf \n",
    "        for index in range( X.shape[ 1 ]):\n",
    "            fea_i = X[ :,index ]\n",
    "            max_fea_i = max(fea_i)\n",
    "            min_fea_i = min(fea_i)\n",
    "            step = (max_fea_i - min_fea_i) /10\n",
    "            n = 1\n",
    "            while min_fea_i + n * step < max_fea_i:\n",
    "                threshold = min_fea_i + n * step\n",
    "                R1 = residual[ fea_i <= threshold ]\n",
    "                R2 = residual[ fea_i > threshold ]\n",
    "                \n",
    "                if R1.shape[ 0 ]==0 or R2.shape[ 0 ]==0:\n",
    "                    continue\n",
    "                    \n",
    "                c1 = self.Avg( R1 )\n",
    "                c2 = self.Avg( R2 )\n",
    "                mse = self.MSE(R1,c1) + self.MSE(R2,c2)\n",
    "                \n",
    "                if MinMse > mse:\n",
    "                    MinMse = mse\n",
    "                    BestFeature = index\n",
    "                    Threshold = threshold\n",
    "                n += 1\n",
    "        X_col = X[:,BestFeature]\n",
    "        X_left = X[ X_col<= Threshold,: ]\n",
    "        X_right = X[ X_col > Threshold,: ]\n",
    "        y_left = y[ X_col<= Threshold ]\n",
    "        y_right = y[ X_col > Threshold ]\n",
    "        residual_left = residual[ X_col<= Threshold ]\n",
    "        residual_right = residual[ X_col > Threshold ]\n",
    "        \n",
    "        return BestFeature,Threshold,X_left,y_left,residual_left,X_right, y_right,residual_right\n",
    "    \n",
    "    def CreateTree(self,X,y,node,residual):\n",
    "        if node.Depth > self.max_depth or X.shape[ 0 ] <= self.min_sample_split:\n",
    "            node.Is_terminal = True\n",
    "            return \n",
    "        \n",
    "        splitCol,thresh,X_left,y_left,residual_left,X_right, y_right,residual_right = (\n",
    "            self.BestSplitFeature(X,y,residual))\n",
    "        if X_left.shape[ 0 ] < self.min_sample_leaf or X_right.shape[ 0 ] < self.min_sample_leaf:\n",
    "            node.Is_terminal = True\n",
    "            return \n",
    "        \n",
    "        node.Feature = splitCol\n",
    "        node.Threshlod = thresh\n",
    "        \n",
    "        node.Left = Node()\n",
    "        node.Left.Depth = node.Depth + 1\n",
    "        node.Left.Value = self.C_mj( y_left,residual_left )\n",
    "        \n",
    "        node.Right = Node()\n",
    "        node.Right.Depth = node.Depth + 1\n",
    "        node.Right.Value = self.C_mj( y_right,residual_right )\n",
    "        \n",
    "        self.CreateTree( X_left,y_left,node.Left,residual_left )\n",
    "        self.CreateTree( X_right,y_right,node.Right,residual_right )\n",
    "        \n",
    "    def fit(self,X,y,residual):\n",
    "        self.Tree = Node()\n",
    "        self.Tree.Value = 0\n",
    "        self.CreateTree( X,y,self.Tree,residual )\n",
    "        \n",
    "    def predictSample(self,x,node):\n",
    "        if node.Is_terminal:\n",
    "            return node.Value\n",
    "        \n",
    "        if x[node.Feature] > node.Threshlod:\n",
    "            y_pred =  self.predictSample( x,node.Right )\n",
    "        else:\n",
    "            y_pred =  self.predictSample( x,node.Left )\n",
    "            \n",
    "        return y_pred\n",
    "    \n",
    "    def predict( self,X ):\n",
    "        y_preds = [ ]\n",
    "        for x in X:\n",
    "            y_pred = self.predictSample(x,self.Tree)\n",
    "            y_preds.append( y_pred )\n",
    "        return np.asarray( y_preds ) "
   ]
  },
  {
   "cell_type": "code",
   "execution_count": 4,
   "id": "ea29e9c1",
   "metadata": {},
   "outputs": [
    {
     "name": "stdout",
     "output_type": "stream",
     "text": [
      "梯度提升树的准确率是: 0.956140350877193\n"
     ]
    }
   ],
   "source": [
    "class GradientBoostTree( ):\n",
    "    def __init__(self,learning_rate = 0.01,n_trees = 10,max_depth = 10,min_sample_leaf = 1,\n",
    "                 min_sample_split = 2):\n",
    "        self.learning_rate = learning_rate\n",
    "        self.n_trees = n_trees\n",
    "        self.max_depth = max_depth\n",
    "        self.min_sample_leaf = min_sample_leaf\n",
    "        self.min_sample_split = min_sample_split\n",
    "        self.models = [ ]\n",
    "        self.first_item = 0\n",
    "        \n",
    "    def Sigmoid(self,f):\n",
    "        return 1 / ( 1 + np.exp( -f ))\n",
    "    \n",
    "    def fit(self,X,y):\n",
    "        y_f = np.log( y[ y==1 ].shape[ 0 ] / y[ y==0 ].shape[ 0 ])\n",
    "        self.first_item =  y_f\n",
    "        y_prob = self.Sigmoid( y_f )\n",
    "        for i in range( self.n_trees - 1 ):\n",
    "            residual = y - y_prob\n",
    "            tree = RegTree( max_depth = self.max_depth, \n",
    "                           min_sample_leaf = self.min_sample_leaf,\n",
    "                           min_sample_split = self.min_sample_split )\n",
    "            tree.fit(X,y,residual)\n",
    "            self.models.append( tree )\n",
    "            y_prob = self.Sigmoid( self.model_sum( X )  )\n",
    "            \n",
    "    def model_sum(self,X):\n",
    "        y_sum = np.sum(np.array([ model.predict(X) for model in self.models ]),axis = 0)\n",
    "        y_sum = self.first_item + self.learning_rate * y_sum\n",
    "        return y_sum\n",
    "    \n",
    "    def predict(self,X):\n",
    "        y_sum = self.model_sum( X )\n",
    "        y_prob = self.Sigmoid( y_sum )\n",
    "        return np.where(y_prob < 0.5,0,1)\n",
    "    \n",
    "if __name__ == '__main__':\n",
    "    datas = load_breast_cancer()\n",
    "    X = datas.data\n",
    "    y = datas.target\n",
    "    X_train, X_test, y_train, y_test = train_test_split(X, y, test_size=0.2, random_state=34)\n",
    "    model = GradientBoostTree(learning_rate = 0.01,n_trees = 100,max_depth = 3)\n",
    "    model.fit(X_train, y_train)\n",
    "    y_pred = model.predict(X_test)\n",
    "    print('梯度提升树的准确率是:', accuracy_score(y_test, y_pred))"
   ]
  },
  {
   "cell_type": "code",
   "execution_count": 5,
   "id": "9323a951",
   "metadata": {},
   "outputs": [],
   "source": [
    "datas = load_breast_cancer()\n",
    "X = datas.data\n",
    "y = datas.target\n",
    "X_train, X_test, y_train, y_test = train_test_split(X, y, test_size=0.2, random_state=34)"
   ]
  },
  {
   "cell_type": "code",
   "execution_count": 7,
   "id": "64115ce1",
   "metadata": {},
   "outputs": [],
   "source": [
    "from sklearn.ensemble import GradientBoostingClassifier"
   ]
  },
  {
   "cell_type": "code",
   "execution_count": 8,
   "id": "9a5f0f2d",
   "metadata": {},
   "outputs": [],
   "source": [
    "from xgboost import XGBClassifier"
   ]
  },
  {
   "cell_type": "code",
   "execution_count": 9,
   "id": "54a063ca",
   "metadata": {},
   "outputs": [],
   "source": [
    "model = GradientBoostingClassifier() "
   ]
  },
  {
   "cell_type": "code",
   "execution_count": 10,
   "id": "90f9601a",
   "metadata": {},
   "outputs": [
    {
     "name": "stdout",
     "output_type": "stream",
     "text": [
      "梯度提升树的准确率是: 0.956140350877193\n"
     ]
    }
   ],
   "source": [
    "model.fit(X_train, y_train)\n",
    "y_pred = model.predict(X_test)\n",
    "print('梯度提升树的准确率是:', accuracy_score(y_test, y_pred))"
   ]
  },
  {
   "cell_type": "code",
   "execution_count": null,
   "id": "d66d2ff2",
   "metadata": {},
   "outputs": [],
   "source": []
  },
  {
   "cell_type": "code",
   "execution_count": null,
   "id": "615c50e7",
   "metadata": {},
   "outputs": [],
   "source": []
  },
  {
   "cell_type": "code",
   "execution_count": null,
   "id": "c4184cdf",
   "metadata": {},
   "outputs": [],
   "source": []
  },
  {
   "cell_type": "code",
   "execution_count": null,
   "id": "84a155da",
   "metadata": {},
   "outputs": [],
   "source": []
  },
  {
   "cell_type": "code",
   "execution_count": null,
   "id": "4d4e89cb",
   "metadata": {},
   "outputs": [],
   "source": []
  },
  {
   "cell_type": "code",
   "execution_count": null,
   "id": "f83db5ac",
   "metadata": {},
   "outputs": [],
   "source": []
  },
  {
   "cell_type": "code",
   "execution_count": null,
   "id": "d68c05fe",
   "metadata": {},
   "outputs": [],
   "source": []
  },
  {
   "cell_type": "code",
   "execution_count": null,
   "id": "2e9444e2",
   "metadata": {},
   "outputs": [],
   "source": []
  },
  {
   "cell_type": "code",
   "execution_count": null,
   "id": "43dade13",
   "metadata": {},
   "outputs": [],
   "source": []
  },
  {
   "cell_type": "code",
   "execution_count": null,
   "id": "013f117c",
   "metadata": {},
   "outputs": [],
   "source": []
  },
  {
   "cell_type": "code",
   "execution_count": null,
   "id": "b5eb6f9f",
   "metadata": {},
   "outputs": [],
   "source": []
  },
  {
   "cell_type": "code",
   "execution_count": null,
   "id": "6c07a516",
   "metadata": {},
   "outputs": [],
   "source": []
  },
  {
   "cell_type": "code",
   "execution_count": null,
   "id": "46082281",
   "metadata": {},
   "outputs": [],
   "source": []
  }
 ],
 "metadata": {
  "kernelspec": {
   "display_name": "Python 3",
   "language": "python",
   "name": "python3"
  },
  "language_info": {
   "codemirror_mode": {
    "name": "ipython",
    "version": 3
   },
   "file_extension": ".py",
   "mimetype": "text/x-python",
   "name": "python",
   "nbconvert_exporter": "python",
   "pygments_lexer": "ipython3",
   "version": "3.7.0"
  },
  "toc": {
   "base_numbering": 1,
   "nav_menu": {},
   "number_sections": true,
   "sideBar": true,
   "skip_h1_title": false,
   "title_cell": "Table of Contents",
   "title_sidebar": "Contents",
   "toc_cell": false,
   "toc_position": {},
   "toc_section_display": true,
   "toc_window_display": false
  },
  "varInspector": {
   "cols": {
    "lenName": 16,
    "lenType": 16,
    "lenVar": 40
   },
   "kernels_config": {
    "python": {
     "delete_cmd_postfix": "",
     "delete_cmd_prefix": "del ",
     "library": "var_list.py",
     "varRefreshCmd": "print(var_dic_list())"
    },
    "r": {
     "delete_cmd_postfix": ") ",
     "delete_cmd_prefix": "rm(",
     "library": "var_list.r",
     "varRefreshCmd": "cat(var_dic_list()) "
    }
   },
   "types_to_exclude": [
    "module",
    "function",
    "builtin_function_or_method",
    "instance",
    "_Feature"
   ],
   "window_display": false
  }
 },
 "nbformat": 4,
 "nbformat_minor": 5
}
