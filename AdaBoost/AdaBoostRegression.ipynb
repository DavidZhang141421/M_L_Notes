{
 "cells": [
  {
   "cell_type": "code",
   "execution_count": 1,
   "id": "0139bfe9",
   "metadata": {},
   "outputs": [],
   "source": [
    "import numpy as np\n",
    "import pandas as pd\n",
    "from sklearn.model_selection import train_test_split\n",
    "from sklearn.datasets import load_boston\n",
    "from sklearn.metrics import mean_squared_error"
   ]
  },
  {
   "cell_type": "code",
   "execution_count": 2,
   "id": "7df7bc88",
   "metadata": {},
   "outputs": [],
   "source": [
    "class Node( ):\n",
    "    def __init__(self):\n",
    "        self.Value = 0\n",
    "        self.Depth = 1\n",
    "        self.Left = None \n",
    "        self.Right = None \n",
    "        self.Threshold = None\n",
    "        self.Is_terminal = None \n",
    "        self.Feature = None"
   ]
  },
  {
   "cell_type": "code",
   "execution_count": 3,
   "id": "4f9257ae",
   "metadata": {},
   "outputs": [
    {
     "name": "stdout",
     "output_type": "stream",
     "text": [
      "验证集的均方根误差（rmse）是： 5.82639325667181\n"
     ]
    }
   ],
   "source": [
    "class RegTree( ):\n",
    "    def __init__(self,max_depth = 10, min_sample_leaf = 1,min_sample_split = 2):\n",
    "        self.max_depth = max_depth \n",
    "        self.min_sample_leaf = min_sample_leaf\n",
    "        self.min_sample_split = min_sample_split\n",
    "        self.Tree = None\n",
    "        \n",
    "    def Avg(self,y):\n",
    "        return sum(y) / y.shape[ 0 ]\n",
    "        \n",
    "    def MSE( self,y,c ):\n",
    "        return sum((y-c)**2)\n",
    "    \n",
    "    def BestSplitFeature(self,X,y):\n",
    "        BestFeature = None\n",
    "        Threshold = None\n",
    "        MinMse = np.inf \n",
    "        for index in range( X.shape[ 1 ]):\n",
    "            fea_i = X[ :,index ]\n",
    "            max_fea_i = max(fea_i)\n",
    "            min_fea_i = min(fea_i)\n",
    "            step = (max_fea_i - min_fea_i) /10\n",
    "            n = 1\n",
    "            while min_fea_i + n * step < max_fea_i:\n",
    "                threshold = min_fea_i + n * step\n",
    "                R1 = y[ fea_i <= threshold ]\n",
    "                R2 = y[ fea_i > threshold ]\n",
    "                \n",
    "                if R1.shape[ 0 ]==0 or R2.shape[ 0 ]==0:\n",
    "                    continue\n",
    "                    \n",
    "                c1 = self.Avg( R1 )\n",
    "                c2 = self.Avg( R2 )\n",
    "                mse = self.MSE(R1,c1) + self.MSE(R2,c2)\n",
    "                \n",
    "                if MinMse > mse:\n",
    "                    MinMse = mse\n",
    "                    BestFeature = index\n",
    "                    Threshold = threshold\n",
    "                n += 1\n",
    "        X_col = X[:,BestFeature]\n",
    "        X_R1,X_R2 = X[ X_col<= Threshold,: ],X[ X_col > Threshold,: ]\n",
    "        y_R1,y_R2 = y[ X_col<= Threshold ],y[ X_col > Threshold ]\n",
    "        \n",
    "        return BestFeature,Threshold,X_R1,y_R1,X_R2,y_R2\n",
    "    \n",
    "    def CreateTree(self,X,y,node):\n",
    "        if node.Depth > self.max_depth or X.shape[ 0 ] <= self.min_sample_split:\n",
    "            node.Is_terminal = True\n",
    "            return \n",
    "        \n",
    "        splitCol,thresh,X_left,y_left,X_right,y_right = self.BestSplitFeature( X,y )\n",
    "        if X_left.shape[ 0 ] < self.min_sample_leaf or X_right.shape[ 0 ] < self.min_sample_leaf:\n",
    "            node.Is_terminal = True\n",
    "            return \n",
    "        \n",
    "        node.Feature = splitCol\n",
    "        node.Threshlod = thresh\n",
    "        \n",
    "        node.Left = Node()\n",
    "        node.Left.Depth = node.Depth + 1\n",
    "        node.Left.Value = self.Avg( y_left )\n",
    "        \n",
    "        node.Right = Node()\n",
    "        node.Right.Depth = node.Depth + 1\n",
    "        node.Right.Value = self.Avg( y_right )\n",
    "        \n",
    "        self.CreateTree( X_left,y_left,node.Left )\n",
    "        self.CreateTree( X_right,y_right,node.Right )\n",
    "        \n",
    "    def fit(self,X,y):\n",
    "        self.Tree = Node()\n",
    "        self.Tree.Value = 0\n",
    "        self.CreateTree( X,y,self.Tree )\n",
    "        \n",
    "    def predictSample(self,x,node):\n",
    "        if node.Is_terminal:\n",
    "            return node.Value\n",
    "        \n",
    "        if x[node.Feature] > node.Threshlod:\n",
    "            y_pred =  self.predictSample( x,node.Right )\n",
    "        else:\n",
    "            y_pred =  self.predictSample( x,node.Left )\n",
    "            \n",
    "        return y_pred\n",
    "    \n",
    "    def predict( self,X ):\n",
    "        y_preds = [ ]\n",
    "        for x in X:\n",
    "            y_pred = self.predictSample(x,self.Tree)\n",
    "            y_preds.append( y_pred )\n",
    "        return np.asarray( y_preds ) \n",
    "    \n",
    "if __name__ == \"__main__\":\n",
    "    dates = load_boston()\n",
    "    X = dates.data\n",
    "    y= dates.target\n",
    "    X_train, X_test, y_train, y_test = train_test_split(X, y, test_size=0.2, random_state=0)\n",
    "    model = RegTree(max_depth = 7, min_sample_leaf = 1,min_sample_split = 2)\n",
    "    model.fit(X_train, y_train)  \n",
    "    y_pred=model.predict(X_test)\n",
    "    print(\"验证集的均方根误差（rmse）是：\",np.sqrt(mean_squared_error(y_test,y_pred)))"
   ]
  },
  {
   "cell_type": "code",
   "execution_count": 15,
   "id": "5f4310e4",
   "metadata": {},
   "outputs": [
    {
     "name": "stdout",
     "output_type": "stream",
     "text": [
      "验证集的均方根误差（rmse）是： 5.18055892167202\n"
     ]
    }
   ],
   "source": [
    "class AdaBoostReg( ):\n",
    "    def __init__(self,n_reg = 20,max_depth = 10, min_sample_leaf = 1,min_sample_split = 2):\n",
    "        self.models = [ ]\n",
    "        self.n_reg = n_reg\n",
    "        self.max_depth = max_depth\n",
    "        self.min_sample_leaf = min_sample_leaf\n",
    "        self.min_sample_split = min_sample_split\n",
    "        \n",
    "    def fit(self,X,y):\n",
    "        y_pred = 0\n",
    "        for i in range( self.n_reg  ):\n",
    "            residual = y - y_pred\n",
    "            tree = RegTree(max_depth = self.max_depth, min_sample_leaf = self.min_sample_leaf\n",
    "                           ,min_sample_split = self.min_sample_split)\n",
    "            tree.fit(X,residual)\n",
    "            self.models.append( tree )\n",
    "            y_pred = self.predict( X )\n",
    "            \n",
    "            \n",
    "    def predict(self,X):\n",
    "        y_pred = np.sum(np.array([ tree.predict(X) for tree in self.models ]),axis = 0)\n",
    "        return y_pred\n",
    "\n",
    "if __name__ == \"__main__\":\n",
    "    dates = load_boston()\n",
    "    X = dates.data\n",
    "    y= dates.target\n",
    "    X_train, X_test, y_train, y_test = train_test_split(X, y, test_size=0.2, random_state=0)\n",
    "    model = AdaBoostReg(n_reg = 4,max_depth = 3, min_sample_leaf = 1,min_sample_split = 2)\n",
    "    model.fit(X_train, y_train)  \n",
    "    y_pred = model.predict(X_test)\n",
    "    print(\"验证集的均方根误差（rmse）是：\",np.sqrt(mean_squared_error( y_test,y_pred )))"
   ]
  },
  {
   "cell_type": "code",
   "execution_count": null,
   "id": "0fad38af",
   "metadata": {},
   "outputs": [],
   "source": []
  }
 ],
 "metadata": {
  "kernelspec": {
   "display_name": "Python 3",
   "language": "python",
   "name": "python3"
  },
  "language_info": {
   "codemirror_mode": {
    "name": "ipython",
    "version": 3
   },
   "file_extension": ".py",
   "mimetype": "text/x-python",
   "name": "python",
   "nbconvert_exporter": "python",
   "pygments_lexer": "ipython3",
   "version": "3.7.0"
  },
  "toc": {
   "base_numbering": 1,
   "nav_menu": {},
   "number_sections": true,
   "sideBar": true,
   "skip_h1_title": false,
   "title_cell": "Table of Contents",
   "title_sidebar": "Contents",
   "toc_cell": false,
   "toc_position": {},
   "toc_section_display": true,
   "toc_window_display": false
  },
  "varInspector": {
   "cols": {
    "lenName": 16,
    "lenType": 16,
    "lenVar": 40
   },
   "kernels_config": {
    "python": {
     "delete_cmd_postfix": "",
     "delete_cmd_prefix": "del ",
     "library": "var_list.py",
     "varRefreshCmd": "print(var_dic_list())"
    },
    "r": {
     "delete_cmd_postfix": ") ",
     "delete_cmd_prefix": "rm(",
     "library": "var_list.r",
     "varRefreshCmd": "cat(var_dic_list()) "
    }
   },
   "types_to_exclude": [
    "module",
    "function",
    "builtin_function_or_method",
    "instance",
    "_Feature"
   ],
   "window_display": false
  }
 },
 "nbformat": 4,
 "nbformat_minor": 5
}
