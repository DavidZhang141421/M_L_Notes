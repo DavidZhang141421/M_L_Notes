{
 "cells": [
  {
   "cell_type": "code",
   "execution_count": 1,
   "id": "457b2253",
   "metadata": {},
   "outputs": [],
   "source": [
    "import numpy as np\n",
    "import pandas as pd\n",
    "from sklearn.metrics import accuracy_score\n",
    "from sklearn.model_selection import train_test_split\n",
    "from sklearn.datasets import load_breast_cancer"
   ]
  },
  {
   "cell_type": "code",
   "execution_count": 2,
   "id": "a459b771",
   "metadata": {},
   "outputs": [
    {
     "name": "stdout",
     "output_type": "stream",
     "text": [
      "模型的准确率是: 0.9122807017543859\n",
      "模型的误差率是: 0.08131868131868131\n"
     ]
    }
   ],
   "source": [
    "class Stump():\n",
    "    def __init__(self):\n",
    "        self.State = 1\n",
    "        self.MinError = 1\n",
    "        self.BestSplitFea = 0\n",
    "        self.Threshold = 0\n",
    "    \n",
    "    def Error(self,y,y_pred,weight):\n",
    "        not_correct_num = np.where( y != y_pred, 1,0)\n",
    "        error = np.dot(weight,not_correct_num)\n",
    "        return error\n",
    "\n",
    "        \n",
    "    def fit(self,X,y,weight):\n",
    "        for i in range(X.shape[ 1 ]):\n",
    "            fea_i = X[ :,i ]\n",
    "            min_of_fea_i = min(fea_i)\n",
    "            max_of_fea_i = max(fea_i)\n",
    "            step = (max_of_fea_i - min_of_fea_i)/10\n",
    "            n = 1\n",
    "            while min_of_fea_i +  n * step < max_of_fea_i:\n",
    "                threshold = min_of_fea_i +  n * step             \n",
    "                for j in [0,1]:\n",
    "                    if j == 0:\n",
    "                        y_pred = np.where( fea_i < threshold,1,-1)\n",
    "                        error = self.Error(y,y_pred,weight)\n",
    "                    else:\n",
    "                        y_pred = np.where( fea_i > threshold,1,-1)\n",
    "                        error = self.Error(y,y_pred,weight)\n",
    "                        \n",
    "                    if  error < self.MinError:\n",
    "                        self.MinError = error\n",
    "                        self.State = j\n",
    "                        self.BestSplitFea = i\n",
    "                        self.Threshold = threshold\n",
    "                n += 1\n",
    "    \n",
    "    def predict( self,X ):\n",
    "        feature = X[ :,self.BestSplitFea ]\n",
    "        if self.State == 0:\n",
    "            pred = np.where(feature < self.Threshold,1,-1)\n",
    "        else:\n",
    "            pred = np.where(feature > self.Threshold,1,-1)\n",
    "        return pred\n",
    "    \n",
    "if __name__ == \"__main__\":\n",
    "    datas = load_breast_cancer()\n",
    "    X = datas.data\n",
    "    y = datas.target\n",
    "    y = np.where(y== 0,-1,1)\n",
    "    X_train, X_test, y_train, y_test = train_test_split(X, y, test_size=0.2, random_state=34)\n",
    "    model = Stump()\n",
    "    weight = np.ones(X_train.shape[ 0 ])* 1/X_train.shape[ 0 ]\n",
    "    model.fit(X_train, y_train,weight)\n",
    "    y_pred = model.predict(X_test)\n",
    "    print('模型的准确率是:', accuracy_score(y_test, y_pred)) \n",
    "    print('模型的误差率是:', model.MinError)"
   ]
  },
  {
   "cell_type": "code",
   "execution_count": 3,
   "id": "4a20aae6",
   "metadata": {},
   "outputs": [
    {
     "name": "stdout",
     "output_type": "stream",
     "text": [
      "提升树的准确率是: 0.9736842105263158\n"
     ]
    }
   ],
   "source": [
    "class AdaBoost():\n",
    "    def __init__(self,n_stump = 20):\n",
    "        self.n_stump = n_stump\n",
    "        self.Stumps = [ ]\n",
    "        self.alpha = [ ]\n",
    "        \n",
    "    def Alpha(self,error):\n",
    "        return 0.5 * np.log( (1 - error) / error )\n",
    "        \n",
    "    def Weight(self,y,y_pred,alpha,weight):\n",
    "        exp = np.exp( -alpha * np.multiply( y , y_pred ))\n",
    "        Z = np.multiply( weight,exp )\n",
    "        new_weight = ( 1 / sum( Z ) ) * Z\n",
    "        return new_weight\n",
    "    \n",
    "    def fit(self,X,y):\n",
    "        weight = (1 / X.shape[ 0 ]) * np.ones(X.shape[ 0 ])\n",
    "        for i in range(self.n_stump):\n",
    "            classifier = Stump()\n",
    "            classifier.fit(X,y,weight)\n",
    "            error = classifier.MinError\n",
    "            new_alpha = self.Alpha( error )\n",
    "            y_pred = classifier.predict( X )\n",
    "            weight = self.Weight(y,y_pred,new_alpha,weight)\n",
    "            self.alpha.append( new_alpha )\n",
    "            self.Stumps.append( classifier )\n",
    "            \n",
    "    def predict( self,X ):\n",
    "        model_preds = np.array([model.predict(X) for model in self.Stumps])\n",
    "        alphas = self.alpha\n",
    "        y_pred = np.sum(np.multiply( alphas,model_preds.T).T,axis = 0)\n",
    "        y_pred = np.sign( y_pred )\n",
    "        return y_pred\n",
    "\n",
    "if __name__ == \"__main__\":\n",
    "    datas = load_breast_cancer()\n",
    "    X = datas.data\n",
    "    y = datas.target\n",
    "    y = np.where(y== 0,-1,1)\n",
    "    X_train, X_test, y_train, y_test = train_test_split(X, y, test_size=0.2, random_state=34)\n",
    "    model = AdaBoost(n_stump = 50)\n",
    "    model.fit(X_train, y_train)\n",
    "    y_pred = model.predict(X_test)\n",
    "    print('提升树的准确率是:', accuracy_score(y_test, y_pred))\n",
    "        "
   ]
  }
 ],
 "metadata": {
  "kernelspec": {
   "display_name": "Python 3",
   "language": "python",
   "name": "python3"
  },
  "language_info": {
   "codemirror_mode": {
    "name": "ipython",
    "version": 3
   },
   "file_extension": ".py",
   "mimetype": "text/x-python",
   "name": "python",
   "nbconvert_exporter": "python",
   "pygments_lexer": "ipython3",
   "version": "3.7.0"
  },
  "toc": {
   "base_numbering": 1,
   "nav_menu": {},
   "number_sections": true,
   "sideBar": true,
   "skip_h1_title": false,
   "title_cell": "Table of Contents",
   "title_sidebar": "Contents",
   "toc_cell": false,
   "toc_position": {},
   "toc_section_display": true,
   "toc_window_display": false
  },
  "varInspector": {
   "cols": {
    "lenName": 16,
    "lenType": 16,
    "lenVar": 40
   },
   "kernels_config": {
    "python": {
     "delete_cmd_postfix": "",
     "delete_cmd_prefix": "del ",
     "library": "var_list.py",
     "varRefreshCmd": "print(var_dic_list())"
    },
    "r": {
     "delete_cmd_postfix": ") ",
     "delete_cmd_prefix": "rm(",
     "library": "var_list.r",
     "varRefreshCmd": "cat(var_dic_list()) "
    }
   },
   "types_to_exclude": [
    "module",
    "function",
    "builtin_function_or_method",
    "instance",
    "_Feature"
   ],
   "window_display": false
  }
 },
 "nbformat": 4,
 "nbformat_minor": 5
}
